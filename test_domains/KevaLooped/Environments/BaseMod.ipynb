{
 "cells": [
  {
   "cell_type": "code",
   "execution_count": 1,
   "metadata": {},
   "outputs": [],
   "source": [
    "# Pi structure modification\n",
    "ENV_PATH = 'keva_double_station_new_table.dae'\n",
    "# ENV_PATH = 'keva_tower_24_structure_new_table.dae'\n",
    "# ENV_PATH = 'keva_triple_pi_structure_new_table.dae'\n",
    "\n",
    "import env_build_helper\n",
    "from openravepy import *\n",
    "import numpy as npa\n",
    "\n",
    "env = env_build_helper.load_env(ENV_PATH)\n",
    "all_planks = env_build_helper.get_station_planks(env)\n",
    "plank_left_tx = env.GetKinBody('left_station_3').GetTransform()\n",
    "plank_right_tx = env.GetKinBody('right_station_3').GetTransform()\n",
    "# basic_pi_planks = all_planks[:2]\n",
    "# print(basic_pi_planks) # Should be plank 1,2 and 3 "
   ]
  },
  {
   "cell_type": "code",
   "execution_count": 2,
   "metadata": {},
   "outputs": [],
   "source": [
    "for i in all_planks:\n",
    "    name = i.GetName()\n",
    "    tx = i.GetTransform()\n",
    "    env.RemoveKinBody(i)\n",
    "    # p = env_build_helper.create_plank(env,name,tx)"
   ]
  },
  {
   "cell_type": "code",
   "execution_count": 3,
   "metadata": {},
   "outputs": [],
   "source": [
    "env_build_helper.create_station(env,plank_left_tx,'left')\n",
    "env_build_helper.create_station(env,plank_right_tx,'right')"
   ]
  },
  {
   "cell_type": "code",
   "execution_count": 15,
   "metadata": {},
   "outputs": [],
   "source": [
    "for i in env.GetBodies():\n",
    "    env.RemoveKinBody(i)"
   ]
  },
  {
   "cell_type": "code",
   "execution_count": 8,
   "metadata": {},
   "outputs": [
    {
     "data": {
      "text/plain": "False"
     },
     "execution_count": 8,
     "metadata": {},
     "output_type": "execute_result"
    }
   ],
   "source": [
    "env.CheckCollision(env.GetKinBody('left_station_base'), env.GetKinBody('left_station_l1_right'))"
   ]
  },
  {
   "cell_type": "code",
   "execution_count": 5,
   "metadata": {},
   "outputs": [],
   "source": [
    "tx = plank_left_tx\n",
    "rp = matrixFromPose([ 0.5, -0.5, -0.5,  0.5, -0.05884+0.003875,0.,1.5*(2*0.003875)+0.01162])\n",
    "tmp = np.matmul(tx,rp)\n",
    "tmp[2,3]+=0.0001\n",
    "l = env_build_helper.create_plank(env,'lol',tmp)\n",
    "# l.SetTransform(tmp)\n",
    "env.CheckCollision(env.GetKinBody('left_station_l1_right'), env.GetKinBody('lol'))"
   ]
  },
  {
   "cell_type": "code",
   "execution_count": 1,
   "metadata": {},
   "outputs": [],
   "source": [
    "###########################################################################"
   ]
  },
  {
   "cell_type": "code",
   "execution_count": 1,
   "metadata": {},
   "outputs": [],
   "source": [
    "# Pi structure modification\n",
    "ENV_PATH = 'NEW/keva_double_station.dae'\n",
    "# ENV_PATH = 'keva_tower_24_structure_new_table.dae'\n",
    "# ENV_PATH = 'keva_triple_pi_structure_new_table.dae'\n",
    "\n",
    "import env_build_helper\n",
    "from openravepy import *\n",
    "import numpy as npa\n",
    "\n",
    "env = env_build_helper.load_env(ENV_PATH)\n",
    "all_planks = env_build_helper.get_station_planks(env)\n",
    "# plank_left_tx = env.GetKinBody('left_station_3').GetTransform()\n",
    "# plank_right_tx = env.GetKinBody('right_station_3').GetTransform()\n",
    "# basic_pi_planks = all_planks[:2]\n",
    "# print(basic_pi_planks) # Should be plank 1,2 and 3 "
   ]
  },
  {
   "cell_type": "code",
   "execution_count": 2,
   "metadata": {},
   "outputs": [],
   "source": [
    "for i in env.GetBodies():\n",
    "    if 'station' in i.GetName():\n",
    "        tx = i.GetTransform()\n",
    "        tx[0,3]-=0.1\n",
    "        i.SetTransform(tx)"
   ]
  },
  {
   "cell_type": "code",
   "execution_count": 6,
   "metadata": {},
   "outputs": [],
   "source": [
    "i = env.GetKinBody('table60')\n",
    "tx = i.GetTransform()\n",
    "tx[1,3]+=0.1\n",
    "i.SetTransform(tx)"
   ]
  },
  {
   "cell_type": "code",
   "execution_count": 5,
   "metadata": {},
   "outputs": [
    {
     "ename": "AttributeError",
     "evalue": "'Environment' object has no attribute 'GetKi'",
     "output_type": "error",
     "traceback": [
      "\u001b[0;31m\u001b[0m",
      "\u001b[0;31mAttributeError\u001b[0mTraceback (most recent call last)",
      "\u001b[0;32m<ipython-input-5-15631a74e753>\u001b[0m in \u001b[0;36m<module>\u001b[0;34m()\u001b[0m\n\u001b[0;32m----> 1\u001b[0;31m \u001b[0menv\u001b[0m\u001b[0;34m.\u001b[0m\u001b[0mGetKi\u001b[0m\u001b[0;34m\u001b[0m\u001b[0m\n\u001b[0m",
      "\u001b[0;31mAttributeError\u001b[0m: 'Environment' object has no attribute 'GetKi'"
     ]
    }
   ],
   "source": [
    "env.GetKi"
   ]
  },
  {
   "cell_type": "code",
   "execution_count": null,
   "metadata": {},
   "outputs": [],
   "source": []
  }
 ],
 "metadata": {
  "kernelspec": {
   "display_name": "Python 2.7.12 64-bit",
   "language": "python",
   "name": "python271264bit13193665e78347089c25fdd8d97b7d3a"
  },
  "language_info": {
   "codemirror_mode": {
    "name": "ipython",
    "version": 2
   },
   "file_extension": ".py",
   "mimetype": "text/x-python",
   "name": "python",
   "nbconvert_exporter": "python",
   "pygments_lexer": "ipython2",
   "version": "2.7.12-final"
  }
 },
 "nbformat": 4,
 "nbformat_minor": 2
}